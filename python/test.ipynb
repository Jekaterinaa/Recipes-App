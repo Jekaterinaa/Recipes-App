{
 "cells": [
  {
   "cell_type": "code",
   "execution_count": 12,
   "id": "82158543",
   "metadata": {},
   "outputs": [],
   "source": [
    "import uuid\n",
    "import os\n",
    "from image_generation import generate_single_image, generate_images\n",
    "from openai import OpenAI\n",
    "from dotenv import load_dotenv\n",
    "import base64"
   ]
  },
  {
   "cell_type": "code",
   "execution_count": 11,
   "id": "3d2e56b5",
   "metadata": {},
   "outputs": [],
   "source": [
    "client = OpenAI(\n",
    "    api_key=os.getenv(\"OPENAI_API_KEY\"),\n",
    ")\n",
    "\n",
    "image_prompt1 = \"Homemade lasanga with green salad as a side.\"\n",
    "image_prompt2 = \"A bowl of ramen with a side of sushi.\"\n",
    "image_prompt3 = \"A plate of tacos with guacamole and salsa.\"\n",
    "\n",
    "image_prompts = [image_prompt1, image_prompt2, image_prompt3]"
   ]
  },
  {
   "cell_type": "code",
   "execution_count": 6,
   "id": "3d1ae9c5",
   "metadata": {},
   "outputs": [
    {
     "name": "stdout",
     "output_type": "stream",
     "text": [
      "Image saved to ../generated_images/2870a32a-cc63-451f-88fc-394e6bdb698f.png\n"
     ]
    }
   ],
   "source": [
    "result = client.images.generate(\n",
    "    model=\"gpt-image-1\",\n",
    "    prompt=image_prompt,\n",
    "    size=\"1024x1024\",\n",
    "    quality=\"low\",\n",
    ")\n",
    "\n",
    "image_base64 = result.data[0].b64_json\n",
    "image_bytes = base64.b64decode(image_base64)\n",
    "\n",
    "image_id = str(uuid.uuid4())\n",
    "image_path = f\"../generated_images/{image_id}.png\"\n",
    "\n",
    "# Save the image to a file\n",
    "with open(image_path, \"wb\") as f:\n",
    "    f.write(image_bytes)\n",
    "\n",
    "print(f\"Image saved to {image_path}\")"
   ]
  },
  {
   "cell_type": "code",
   "execution_count": null,
   "id": "49219ad5",
   "metadata": {},
   "outputs": [
    {
     "name": "stdout",
     "output_type": "stream",
     "text": [
      "Image saved to /workspaces/jserge-ae-cap/generated_images/15482fb3-9b13-46a9-84fa-75eef1d2ab82.png\n"
     ]
    }
   ],
   "source": [
    "image_path = generate_single_image(\n",
    "    image_prompt=image_prompt1,\n",
    "    openai_client=client,\n",
    ")\n",
    "\n",
    "print(f\"Image saved to {image_path}\")"
   ]
  },
  {
   "cell_type": "code",
   "execution_count": 13,
   "id": "6114e961",
   "metadata": {},
   "outputs": [
    {
     "name": "stdout",
     "output_type": "stream",
     "text": [
      "Images saved to ['/workspaces/jserge-ae-cap/generated_images/3e158a18-9fd9-4bdb-b5de-e608d9798755.png', '/workspaces/jserge-ae-cap/generated_images/5275649d-b419-4db5-9e2c-a93530f25420.png', '/workspaces/jserge-ae-cap/generated_images/e877025d-dca3-41de-bcf5-2c561fde0733.png']\n"
     ]
    }
   ],
   "source": [
    "paths = generate_images(\n",
    "    image_prompts=image_prompts,\n",
    "    openai_client=client,\n",
    ")\n",
    "\n",
    "print(f\"Images saved to {paths}\")"
   ]
  }
 ],
 "metadata": {
  "kernelspec": {
   "display_name": "Python 3",
   "language": "python",
   "name": "python3"
  },
  "language_info": {
   "codemirror_mode": {
    "name": "ipython",
    "version": 3
   },
   "file_extension": ".py",
   "mimetype": "text/x-python",
   "name": "python",
   "nbconvert_exporter": "python",
   "pygments_lexer": "ipython3",
   "version": "3.11.12"
  }
 },
 "nbformat": 4,
 "nbformat_minor": 5
}
